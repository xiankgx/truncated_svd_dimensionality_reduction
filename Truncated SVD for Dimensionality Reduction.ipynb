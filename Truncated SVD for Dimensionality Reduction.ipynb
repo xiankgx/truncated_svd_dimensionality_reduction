{
 "cells": [
  {
   "cell_type": "code",
   "execution_count": 1,
   "metadata": {},
   "outputs": [],
   "source": [
    "import numpy as np\n",
    "\n",
    "from numpy import array\n",
    "from numpy import diag\n",
    "from numpy import zeros\n",
    "from scipy.linalg import svd"
   ]
  },
  {
   "cell_type": "code",
   "execution_count": 2,
   "metadata": {},
   "outputs": [
    {
     "name": "stdout",
     "output_type": "stream",
     "text": [
      "[[0.07352971 0.36044805 0.92218809 0.6933324  0.01706    0.28896906\n",
      "  0.66900951 0.30337858 0.92602051 0.40826101]\n",
      " [0.36195974 0.50393622 0.94493427 0.24096444 0.81864482 0.81148075\n",
      "  0.90106397 0.52624081 0.34721856 0.95763815]\n",
      " [0.26410602 0.83535665 0.23519039 0.98420093 0.61802359 0.75319248\n",
      "  0.77073535 0.63055574 0.89370457 0.15482388]]\n"
     ]
    }
   ],
   "source": [
    "# define a matrix\n",
    "# A = array([\n",
    "#     [1,2,3,4,5,6,7,8,9,10],\n",
    "#     [11,12,13,14,15,16,17,18,19,20],\n",
    "#     [21,22,23,24,25,26,27,28,29,30]\n",
    "# ])\n",
    "A = np.random.rand(3, 10)\n",
    "\n",
    "print(A)"
   ]
  },
  {
   "cell_type": "code",
   "execution_count": 3,
   "metadata": {},
   "outputs": [],
   "source": [
    "# Singular-value decomposition\n",
    "U, s, VT = svd(A)"
   ]
  },
  {
   "cell_type": "code",
   "execution_count": 4,
   "metadata": {},
   "outputs": [
    {
     "data": {
      "text/plain": [
       "(array([[-0.49139371,  0.21999216, -0.84269548],\n",
       "        [-0.62148057, -0.7664303 ,  0.16231603],\n",
       "        [-0.6101591 ,  0.60347994,  0.51333988]]), (3, 3))"
      ]
     },
     "execution_count": 4,
     "metadata": {},
     "output_type": "execute_result"
    }
   ],
   "source": [
    "U, U.shape"
   ]
  },
  {
   "cell_type": "code",
   "execution_count": 5,
   "metadata": {},
   "outputs": [
    {
     "data": {
      "text/plain": [
       "(array([3.26379328, 1.05890445, 0.82863366]), (3,))"
      ]
     },
     "execution_count": 5,
     "metadata": {},
     "output_type": "execute_result"
    }
   ],
   "source": [
    "s, s.shape"
   ]
  },
  {
   "cell_type": "code",
   "execution_count": 6,
   "metadata": {},
   "outputs": [
    {
     "data": {
      "text/plain": [
       "(array([[-0.12936777, -0.30639469, -0.36274334, -0.33426537, -0.27399031,\n",
       "         -0.33883406, -0.41639034, -0.26376244, -0.37261313, -0.27276164],\n",
       "        [-0.09619213,  0.1862158 , -0.35831319,  0.53053962, -0.23676952,\n",
       "         -0.0980598 , -0.07394677,  0.04149737,  0.4504006 , -0.52008051],\n",
       "        [ 0.15973871,  0.24965299, -0.60703923, -0.04818306,  0.52587647,\n",
       "          0.33168716, -0.02638678,  0.18518553, -0.32006902, -0.13168957],\n",
       "        [-0.57143733,  0.17856258,  0.18101128,  0.53718788,  0.12188165,\n",
       "         -0.03073429, -0.16469972, -0.1057495 , -0.50058537,  0.12467751],\n",
       "        [-0.0461877 , -0.59732353,  0.10047699,  0.16276523,  0.68120401,\n",
       "         -0.20591991, -0.07573272, -0.09063919,  0.22886921, -0.17807081],\n",
       "        [-0.20957138, -0.41306224,  0.03417827,  0.01659113, -0.20673157,\n",
       "          0.83692655, -0.11189304, -0.09314386,  0.0436629 , -0.133153  ],\n",
       "        [-0.36344481, -0.17537705, -0.21997858, -0.08737804, -0.05632905,\n",
       "         -0.08789694,  0.85570238, -0.06877051, -0.12854345, -0.12941044],\n",
       "        [-0.23212934, -0.20968194,  0.05259654, -0.07754032, -0.0986567 ,\n",
       "         -0.10186462, -0.09732205,  0.92517636, -0.06900697, -0.05546323],\n",
       "        [-0.6231003 ,  0.3166656 , -0.06702491, -0.47054772,  0.21249359,\n",
       "          0.02530338, -0.1737702 , -0.0744154 ,  0.44169067,  0.09456878],\n",
       "        [-0.04087012, -0.27352919, -0.52139632,  0.23253299, -0.11239141,\n",
       "         -0.05498352, -0.05638233,  0.01100588,  0.18602494,  0.73758071]]),\n",
       " (10, 10))"
      ]
     },
     "execution_count": 6,
     "metadata": {},
     "output_type": "execute_result"
    }
   ],
   "source": [
    "VT, VT.shape"
   ]
  },
  {
   "cell_type": "code",
   "execution_count": 7,
   "metadata": {},
   "outputs": [],
   "source": [
    "# create m x n Sigma matrix\n",
    "Sigma = zeros((A.shape[0], A.shape[1]))"
   ]
  },
  {
   "cell_type": "code",
   "execution_count": 8,
   "metadata": {},
   "outputs": [
    {
     "data": {
      "text/plain": [
       "(array([[0., 0., 0., 0., 0., 0., 0., 0., 0., 0.],\n",
       "        [0., 0., 0., 0., 0., 0., 0., 0., 0., 0.],\n",
       "        [0., 0., 0., 0., 0., 0., 0., 0., 0., 0.]]), (3, 10))"
      ]
     },
     "execution_count": 8,
     "metadata": {},
     "output_type": "execute_result"
    }
   ],
   "source": [
    "Sigma, Sigma.shape"
   ]
  },
  {
   "cell_type": "code",
   "execution_count": 9,
   "metadata": {},
   "outputs": [],
   "source": [
    "# populate Sigma with n x n diagonal matrix\n",
    "Sigma[:A.shape[0], :A.shape[0]] = diag(s)"
   ]
  },
  {
   "cell_type": "code",
   "execution_count": 10,
   "metadata": {},
   "outputs": [
    {
     "data": {
      "text/plain": [
       "(array([[3.26379328, 0.        , 0.        , 0.        , 0.        ,\n",
       "         0.        , 0.        , 0.        , 0.        , 0.        ],\n",
       "        [0.        , 1.05890445, 0.        , 0.        , 0.        ,\n",
       "         0.        , 0.        , 0.        , 0.        , 0.        ],\n",
       "        [0.        , 0.        , 0.82863366, 0.        , 0.        ,\n",
       "         0.        , 0.        , 0.        , 0.        , 0.        ]]),\n",
       " (3, 10))"
      ]
     },
     "execution_count": 10,
     "metadata": {},
     "output_type": "execute_result"
    }
   ],
   "source": [
    "Sigma, Sigma.shape"
   ]
  },
  {
   "cell_type": "code",
   "execution_count": 11,
   "metadata": {},
   "outputs": [],
   "source": [
    "# select\n",
    "n_elements = 2\n",
    "Sigma = Sigma[:, :n_elements]"
   ]
  },
  {
   "cell_type": "code",
   "execution_count": 12,
   "metadata": {},
   "outputs": [
    {
     "data": {
      "text/plain": [
       "(array([[3.26379328, 0.        ],\n",
       "        [0.        , 1.05890445],\n",
       "        [0.        , 0.        ]]), (3, 2))"
      ]
     },
     "execution_count": 12,
     "metadata": {},
     "output_type": "execute_result"
    }
   ],
   "source": [
    "Sigma, Sigma.shape"
   ]
  },
  {
   "cell_type": "code",
   "execution_count": 13,
   "metadata": {},
   "outputs": [],
   "source": [
    "VT = VT[:n_elements, :]"
   ]
  },
  {
   "cell_type": "code",
   "execution_count": 14,
   "metadata": {},
   "outputs": [
    {
     "data": {
      "text/plain": [
       "(array([[-0.12936777, -0.30639469, -0.36274334, -0.33426537, -0.27399031,\n",
       "         -0.33883406, -0.41639034, -0.26376244, -0.37261313, -0.27276164],\n",
       "        [-0.09619213,  0.1862158 , -0.35831319,  0.53053962, -0.23676952,\n",
       "         -0.0980598 , -0.07394677,  0.04149737,  0.4504006 , -0.52008051]]),\n",
       " (2, 10))"
      ]
     },
     "execution_count": 14,
     "metadata": {},
     "output_type": "execute_result"
    }
   ],
   "source": [
    "VT, VT.shape"
   ]
  },
  {
   "cell_type": "code",
   "execution_count": 15,
   "metadata": {},
   "outputs": [
    {
     "name": "stdout",
     "output_type": "stream",
     "text": [
      "[[0.18507298 0.53477719 0.49830118 0.65968686 0.3842721  0.52058151\n",
      "  0.650584   0.43269102 0.70252084 0.31630405]\n",
      " [0.3404748  0.47035776 1.02658137 0.24744509 0.74791416 0.76686865\n",
      "  0.90461301 0.50133326 0.39026801 0.97535047]\n",
      " [0.19615785 0.72916158 0.4934071  1.00469659 0.39433114 0.61210248\n",
      "  0.78195951 0.55178324 1.02985255 0.21084077]]\n"
     ]
    }
   ],
   "source": [
    "# reconstruct\n",
    "B = U.dot(Sigma.dot(VT))\n",
    "print(B)"
   ]
  },
  {
   "cell_type": "code",
   "execution_count": 16,
   "metadata": {},
   "outputs": [
    {
     "name": "stdout",
     "output_type": "stream",
     "text": [
      "[[-1.60380749  0.23295067]\n",
      " [-2.0283841  -0.81157646]\n",
      " [-1.99143317  0.6390276 ]]\n"
     ]
    }
   ],
   "source": [
    "# transform\n",
    "T = U.dot(Sigma)\n",
    "print(T)"
   ]
  },
  {
   "cell_type": "code",
   "execution_count": 17,
   "metadata": {},
   "outputs": [
    {
     "name": "stdout",
     "output_type": "stream",
     "text": [
      "[[-1.60380749  0.23295067]\n",
      " [-2.0283841  -0.81157646]\n",
      " [-1.99143317  0.6390276 ]]\n"
     ]
    }
   ],
   "source": [
    "T = A.dot(VT.T)\n",
    "print(T)"
   ]
  },
  {
   "cell_type": "code",
   "execution_count": null,
   "metadata": {},
   "outputs": [],
   "source": []
  }
 ],
 "metadata": {
  "kernelspec": {
   "display_name": "Python 3",
   "language": "python",
   "name": "python3"
  },
  "language_info": {
   "codemirror_mode": {
    "name": "ipython",
    "version": 3
   },
   "file_extension": ".py",
   "mimetype": "text/x-python",
   "name": "python",
   "nbconvert_exporter": "python",
   "pygments_lexer": "ipython3",
   "version": "3.7.3"
  }
 },
 "nbformat": 4,
 "nbformat_minor": 2
}
